{
  "nbformat": 4,
  "nbformat_minor": 0,
  "metadata": {
    "colab": {
      "provenance": []
    },
    "kernelspec": {
      "name": "python3",
      "display_name": "Python 3"
    },
    "language_info": {
      "name": "python"
    }
  },
  "cells": [
    {
      "cell_type": "code",
      "source": [
        "## importing library for question answer\n",
        "from transformers import pipeline"
      ],
      "metadata": {
        "id": "bWlq9PrLf9Lz"
      },
      "execution_count": 55,
      "outputs": []
    },
    {
      "cell_type": "code",
      "source": [
        "## question answer model loading\n",
        "question_answer = pipeline(\"question-answering\", model=\"bert-large-uncased-whole-word-masking-finetuned-squad\")"
      ],
      "metadata": {
        "id": "_ku6Jm5LoRHs",
        "outputId": "2a9ad3d6-b4cb-4235-c647-bd438b8e2321",
        "colab": {
          "base_uri": "https://localhost:8080/"
        }
      },
      "execution_count": 51,
      "outputs": [
        {
          "output_type": "stream",
          "name": "stderr",
          "text": [
            "Some weights of the model checkpoint at bert-large-uncased-whole-word-masking-finetuned-squad were not used when initializing BertForQuestionAnswering: ['bert.pooler.dense.bias', 'bert.pooler.dense.weight']\n",
            "- This IS expected if you are initializing BertForQuestionAnswering from the checkpoint of a model trained on another task or with another architecture (e.g. initializing a BertForSequenceClassification model from a BertForPreTraining model).\n",
            "- This IS NOT expected if you are initializing BertForQuestionAnswering from the checkpoint of a model that you expect to be exactly identical (initializing a BertForSequenceClassification model from a BertForSequenceClassification model).\n",
            "Device set to use cpu\n"
          ]
        }
      ]
    },
    {
      "cell_type": "code",
      "source": [
        "## context paragraph for answer\n",
        "context = \"\"\"\n",
        " Chhatrapati Shivaji Maharaj was a great Maratha warrior and the founder of the Maratha Empire in western India during the 17th century.\n",
        " Born on February 19, 1630, at the Shivneri Fort, he was raised by his mother Jijabai and deeply inspired by her teachings and Indian epics.\n",
        " From a young age, Shivaji showed courage, leadership, and a deep sense of justice. He began his military career by capturing forts and\n",
        " gradually building a strong kingdom. He was known for his guerrilla warfare tactics, administrative skills, and respect for all religions.\n",
        " In 1674, he was crowned as the Chhatrapati (king) of the Maratha Empire at Raigad Fort. His rule emphasized good governance, the welfare of\n",
        " his people, and the protection of Hindu culture and traditions. Shivaji Maharaj’s legacy lives on as a symbol of valor, independence, and\n",
        " visionary leadership in Indian history.\n",
        "\"\"\""
      ],
      "metadata": {
        "id": "u2ZB5HsfoSDk"
      },
      "execution_count": 52,
      "outputs": []
    },
    {
      "cell_type": "code",
      "source": [
        "## list of question\n",
        "questions = [\n",
        "    \"When and where was Chhatrapati Shivaji Maharaj born?\",\n",
        "    \"Who played a significant role in Shivaji Maharaj's early upbringing and inspiration?\",\n",
        "    \"What military tactics was Shivaji Maharaj famous for using?\",\n",
        "    \"In which year and at which fort was Shivaji Maharaj crowned as Chhatrapati?\"\n",
        "]\n"
      ],
      "metadata": {
        "id": "YXtCEPoQoW7U"
      },
      "execution_count": 53,
      "outputs": []
    },
    {
      "cell_type": "code",
      "source": [
        "## looping the result for get answer one by one\n",
        "for q in questions:\n",
        "    result = question_answer(question=q, context=context)  # returns dict\n",
        "    print(f\"Q: {q}\\nA: {result['answer']}\\n\")"
      ],
      "metadata": {
        "id": "D9Zv976JoZM8",
        "outputId": "54242a00-144a-4b8b-8a04-e05de07b739d",
        "colab": {
          "base_uri": "https://localhost:8080/"
        }
      },
      "execution_count": 54,
      "outputs": [
        {
          "output_type": "stream",
          "name": "stdout",
          "text": [
            "Q: When and where was Chhatrapati Shivaji Maharaj born?\n",
            "A: February 19, 1630\n",
            "\n",
            "Q: Who played a significant role in Shivaji Maharaj's early upbringing and inspiration?\n",
            "A: Jijabai\n",
            "\n",
            "Q: What military tactics was Shivaji Maharaj famous for using?\n",
            "A: guerrilla warfare\n",
            "\n",
            "Q: In which year and at which fort was Shivaji Maharaj crowned as Chhatrapati?\n",
            "A: 1674\n",
            "\n"
          ]
        }
      ]
    },
    {
      "cell_type": "markdown",
      "source": [
        "## explanation on model accuracy\n"
      ],
      "metadata": {
        "id": "885dib66qMqn"
      }
    },
    {
      "cell_type": "markdown",
      "source": [
        "the bert question-answer model performed well this context on shivaji maharaj\n",
        "and it was giving precise and accurate like name , date , warfare deatiled location .which mentioned in the context,The model’s accuracy depends heavily on the clarity and completeness of the context\n",
        "\n",
        "limitation :model may sometimes pick shorter but less informative answers if multiple options appear similar in confidence\n",
        "\n"
      ],
      "metadata": {
        "id": "-L3PqPk5rL09"
      }
    }
  ]
}